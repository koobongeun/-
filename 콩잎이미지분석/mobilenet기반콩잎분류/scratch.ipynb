{
 "cells": [
  {
   "cell_type": "code",
   "execution_count": 57,
   "id": "92a925e9",
   "metadata": {},
   "outputs": [
    {
     "name": "stdout",
     "output_type": "stream",
     "text": [
      "end\n"
     ]
    }
   ],
   "source": [
    "import os\n",
    "import numpy as np\n",
    "import matplotlib.pyplot as plt\n",
    "import cv2\n",
    "\n",
    "#flip : 이미지의 좌우 반전 ,thr : 임곗값 처리, flit : 흐림 효과, resize : 모자이크 처리, erode : 침식 여부 지정\n",
    "def scratch_image (img_dir, flip = True, thr = True, erode = True) :\n",
    "    img = cv2.imread(img_dir, cv2.COLOR_BGR2RGB)\n",
    "    # 부풀리기에 사용할 방법을 배열에 정리\n",
    "    methods = [flip, thr, erode]\n",
    "\n",
    "    # 이미지 크기를 취득해서 흐름 효과에 사용되는 필터를 만든다\n",
    "    img_size = img.shape\n",
    "    filter1 = np.ones((3,3))\n",
    "    \n",
    "    #원본 이미지 데이터를 배열에 저장\n",
    "    images = [img]\n",
    "    \n",
    "    #부풀리기에 이용하는 함수\n",
    "    scratch = np.array([\n",
    "        lambda x : cv2.flip(x, 1),\n",
    "        lambda x : cv2.threshold(x, 100, 255, cv2.THRESH_TOZERO)[1],\n",
    "        lambda x : cv2.erode(x, filter1)\n",
    "    ])\n",
    "#     cv2.flip(img, 1)\n",
    "#     cv2.fl\n",
    "#     cv2.imwrite(save_rot, img)\n",
    "#     cv2.threshold(img, 100, 255, cv2.THRESH_TOZERO)[1]\n",
    "#     cv2.imwrite(save_rot, img)\n",
    "#     cv2.erode(img, filter1)\n",
    "#     cv2.imwrite(save_rot, img)\n",
    "    \n",
    "    #함수와 이미지를 인수로 받아서 가공된 이미지를 부풀리는 함수\n",
    "    doubling_images = lambda f, img : np.r_[img, [f(i) for i in img]]\n",
    "    \n",
    "    #methods가 True인 함수로 부풀리기를 실시\n",
    "    for func in scratch[methods]:\n",
    "        images = doubling_images(func, images)\n",
    "    \n",
    "    return images\n",
    "#     return 0 \n",
    "\n",
    "\n",
    "ori_path = 'C:/Users/y2363/OneDrive/Desktop/Tic/archive/train/bean dot/' \n",
    "#save_path = 'C:/Users/y2363/OneDrive/Desktop/Tic/archive/train_transform/transform_bean_fire'\n",
    "file_list = os.listdir(ori_path)\n",
    "# save_rot = save_path + str(1)\n",
    "           \n",
    "# 이미지를 읽는다.\n",
    "# leaf_img = cv2.imread(\"archive/train/bean leaf/0_beanleaf (1).jpg\")\n",
    "i = 0\n",
    "for file in file_list:\n",
    "    i += 1\n",
    "    img_path = ori_path + file\n",
    "    # 이미지 데이터를 부풀린다.\n",
    "    scratch_leaf_images = scratch_image(img_path)\n",
    "    # 이미지를 저장할 폴더 생성\n",
    "    if not os.path.exists(\"dot_scratch_images\") :\n",
    "       os.mkdir(\"dot_scratch_images\") \n",
    "    for num, im in enumerate(scratch_leaf_images):\n",
    "       cv2.imwrite(\"dot_scratch_images/\" + str(num)+ str(i) + \".jpg\", im)\n",
    "\n",
    "print(\"end\")"
   ]
  },
  {
   "cell_type": "code",
   "execution_count": null,
   "id": "7c0cf4c6",
   "metadata": {},
   "outputs": [],
   "source": []
  }
 ],
 "metadata": {
  "kernelspec": {
   "display_name": "Python 3 (ipykernel)",
   "language": "python",
   "name": "python3"
  },
  "language_info": {
   "codemirror_mode": {
    "name": "ipython",
    "version": 3
   },
   "file_extension": ".py",
   "mimetype": "text/x-python",
   "name": "python",
   "nbconvert_exporter": "python",
   "pygments_lexer": "ipython3",
   "version": "3.9.6"
  }
 },
 "nbformat": 4,
 "nbformat_minor": 5
}
